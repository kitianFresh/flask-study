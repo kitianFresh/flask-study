{
 "cells": [
  {
   "cell_type": "markdown",
   "metadata": {},
   "source": [
    "# 函数式\n",
    "\n",
    "装饰器的实现,得益于 Python 支持函数式编程! 因此, 记住, **装饰器的本质是函数式!** 函数式编程,可以查看我的一篇基础教程! 从另一个角度来讲, 更多的是动态的修改代码! 需要注意的是, Python Decorator 并不是装饰器模式, 虽然他可以很方便的实现装饰器模式. 我更多的理解是, **Python Decorator 是 code decorator, 就是动态修改代码的特性!**\n",
    "\n",
    "## 递归"
   ]
  },
  {
   "cell_type": "code",
   "execution_count": 103,
   "metadata": {
    "collapsed": false
   },
   "outputs": [],
   "source": [
    "def fib(n):\n",
    "    if n is 0 or n is 1:\n",
    "        return 1\n",
    "    else:\n",
    "        return fib(n-1) + fib(n-2)\n",
    "old = fib # 后面的 fib 可能会被修改, 先保存起来!"
   ]
  },
  {
   "cell_type": "markdown",
   "metadata": {},
   "source": [
    "首先实现一个递归函数, 然后写出递归函数的递归深度跟踪函数!对于深度的跟踪, C style code 当然是需要全局变量做深度记录和跟踪, 最后写出来的代码是这样的!"
   ]
  },
  {
   "cell_type": "code",
   "execution_count": 104,
   "metadata": {
    "collapsed": false
   },
   "outputs": [],
   "source": [
    "indent = 0\n",
    "def fib_verbose_tree(n):\n",
    "    global indent \n",
    "    print '| ' * indent + '|--', 'fib', n\n",
    "    indent += 1\n",
    "    if n is 0 or n is 1:\n",
    "        print '| ' * indent + '|--', 'return', repr(1)\n",
    "        indent -= 1\n",
    "        return 1\n",
    "    else:\n",
    "        value = fib_verbose_tree(n-1) + fib_verbose_tree(n-2)\n",
    "        print '| ' * indent + '|--', 'return', repr(value)\n",
    "        indent -= 1\n",
    "        return value"
   ]
  },
  {
   "cell_type": "code",
   "execution_count": 105,
   "metadata": {
    "collapsed": false
   },
   "outputs": [
    {
     "name": "stdout",
     "output_type": "stream",
     "text": [
      "-------------fib_verbose_tree-----------\n",
      "|-- fib 4\n",
      "| |-- fib 3\n",
      "| | |-- fib 2\n",
      "| | | |-- fib 1\n",
      "| | | | |-- return 1\n",
      "| | | |-- fib 0\n",
      "| | | | |-- return 1\n",
      "| | | |-- return 2\n",
      "| | |-- fib 1\n",
      "| | | |-- return 1\n",
      "| | |-- return 3\n",
      "| |-- fib 2\n",
      "| | |-- fib 1\n",
      "| | | |-- return 1\n",
      "| | |-- fib 0\n",
      "| | | |-- return 1\n",
      "| | |-- return 2\n",
      "| |-- return 5\n",
      "5\n"
     ]
    }
   ],
   "source": [
    "print '-------------fib_verbose_tree-----------'\n",
    "print fib_verbose_tree(4)"
   ]
  },
  {
   "cell_type": "markdown",
   "metadata": {},
   "source": [
    "如果使用函数式编程, 我们可以得到一个递归跟踪的外壳函数,负责深度的加减处理!其实就是函数调用之前,深度加1,出栈后,深度减1."
   ]
  },
  {
   "cell_type": "code",
   "execution_count": 106,
   "metadata": {
    "collapsed": true
   },
   "outputs": [],
   "source": [
    "def trace_tree(f):\n",
    "    f.indent = 0\n",
    "    def wrapped(*args):\n",
    "        print '| ' * f.indent + '|--', f.__name__, str(args)\n",
    "        f.indent += 1\n",
    "        value = f(*args)\n",
    "        print '| ' * f.indent + '|--', 'return', repr(value)\n",
    "        f.indent -= 1\n",
    "        return value\n",
    "    return wrapped"
   ]
  },
  {
   "cell_type": "code",
   "execution_count": 108,
   "metadata": {
    "collapsed": false
   },
   "outputs": [
    {
     "name": "stdout",
     "output_type": "stream",
     "text": [
      "-------------trace_tree-----------\n",
      "|-- fib (4,)\n",
      "| |-- fib (3,)\n",
      "| | |-- fib (2,)\n",
      "| | | |-- fib (1,)\n",
      "| | | | |-- return 1\n",
      "| | | |-- fib (0,)\n",
      "| | | | |-- return 1\n",
      "| | | |-- return 2\n",
      "| | |-- fib (1,)\n",
      "| | | |-- return 1\n",
      "| | |-- return 3\n",
      "| |-- fib (2,)\n",
      "| | |-- fib (1,)\n",
      "| | | |-- return 1\n",
      "| | |-- fib (0,)\n",
      "| | | |-- return 1\n",
      "| | |-- return 2\n",
      "| |-- return 5\n",
      "5\n"
     ]
    }
   ],
   "source": [
    "fib = old\n",
    "print '-------------trace_tree-----------'\n",
    "fib = trace_tree(fib)\n",
    "print fib(4)"
   ]
  },
  {
   "cell_type": "markdown",
   "metadata": {},
   "source": [
    "最后,**我们调用 fib , 其实就是在调用 wrapped() 函数!因为此时的 fib 已经等于另外一个函数了! fib 的代码已经成为 wrapped 了, 即 fib 的代码现在已经是 wrapped 函数的代码了.因为 fib 指针对象现在指向的是 wrapped 函数.**\n",
    "\n",
    "下面我们来做 dp 编程."
   ]
  },
  {
   "cell_type": "code",
   "execution_count": 110,
   "metadata": {
    "collapsed": false
   },
   "outputs": [
    {
     "name": "stdout",
     "output_type": "stream",
     "text": [
      "-------------memoize_trace_tree-----------\n",
      "|-- fib (4,)\n",
      "| |-- fib (3,)\n",
      "| | |-- fib (2,)\n",
      "| | | |-- fib (1,)\n",
      "| | | | |-- return 1\n",
      "| | | |-- fib (0,)\n",
      "| | | | |-- return 1\n",
      "| | | |-- return 2\n",
      "| | |-- return 3\n",
      "| |-- return 5\n",
      "5\n"
     ]
    }
   ],
   "source": [
    "def memoize(f):\n",
    "    cache = {}\n",
    "    def wrapped(n):\n",
    "        if n not in cache:\n",
    "            cache[n] = f(n)\n",
    "        return cache[n]\n",
    "    return wrapped\n",
    "\n",
    "print '-------------memoize_trace_tree-----------'\n",
    "fib = old\n",
    "fib = trace_tree(fib)\n",
    "fib = memoize(fib)\n",
    "print fib(4)"
   ]
  },
  {
   "cell_type": "markdown",
   "metadata": {},
   "source": [
    "以上是 DP 打表过程, 也可以当作装饰器来使用!"
   ]
  },
  {
   "cell_type": "code",
   "execution_count": 111,
   "metadata": {
    "collapsed": false
   },
   "outputs": [
    {
     "name": "stdout",
     "output_type": "stream",
     "text": [
      "-------------timing_memoized-----------\n",
      "time taken: 0.000021 sec\n",
      "10946\n",
      "-------------timing_unmemoized-----------\n",
      "time taken: 0.003210 sec\n",
      "10946\n"
     ]
    }
   ],
   "source": [
    "import time\n",
    "def profile(f):\n",
    "    def wrapped(n):\n",
    "        start = time.time()\n",
    "        value = f(n)\n",
    "        end = time.time()\n",
    "        print \"time taken: %lf sec\" % (end - start)\n",
    "        return value\n",
    "    return wrapped\n",
    "\n",
    "fib = old\n",
    "print '-------------timing_memoized-----------'\n",
    "fib = memoize(fib)\n",
    "f = profile(fib)\n",
    "print f(20)\n",
    "\n",
    "fib = old\n",
    "print '-------------timing_unmemoized-----------'\n",
    "f = profile(fib)\n",
    "print f(20)"
   ]
  },
  {
   "cell_type": "markdown",
   "metadata": {},
   "source": [
    "# Syntax Sugar\n",
    "Python 其实允许另一种形式的装饰器, 直接使用 @decorator 加在需要装饰的函数定义上面, 即可完成装饰! Magic!"
   ]
  },
  {
   "cell_type": "code",
   "execution_count": 116,
   "metadata": {
    "collapsed": false
   },
   "outputs": [
    {
     "name": "stdout",
     "output_type": "stream",
     "text": [
      "|-- my_pow (2, 5)\n",
      "| |-- my_pow (2, 2)\n",
      "| | |-- my_pow (2, 1)\n",
      "| | | |-- return 2\n",
      "| | |-- my_pow (2, 1)\n",
      "| | | |-- return 2\n",
      "| | |-- return 4\n",
      "| |-- my_pow (2, 2)\n",
      "| | |-- my_pow (2, 1)\n",
      "| | | |-- return 2\n",
      "| | |-- my_pow (2, 1)\n",
      "| | | |-- return 2\n",
      "| | |-- return 4\n",
      "| |-- return 32\n"
     ]
    },
    {
     "data": {
      "text/plain": [
       "32"
      ]
     },
     "execution_count": 116,
     "metadata": {},
     "output_type": "execute_result"
    }
   ],
   "source": [
    "@trace_tree\n",
    "def my_pow(x, n):\n",
    "    if n == 0:\n",
    "        return 1\n",
    "    if n == 1:\n",
    "        return x\n",
    "    return my_pow(x, n/2) * my_pow(x, n/2) if n % 2 == 0 else my_pow(x, n/2) * my_pow(x, n/2) * x\n",
    "\n",
    "my_pow(2, 5)"
   ]
  },
  {
   "cell_type": "markdown",
   "metadata": {},
   "source": [
    "这就是 Python 中的语法糖, `@trace_tree` 之后, Python 自动执行了 `my_pow = trace_tree(my_pow)`."
   ]
  },
  {
   "cell_type": "markdown",
   "metadata": {},
   "source": [
    "# Decorator\n",
    "Python 中有很多不同的 decorator, 根据装饰器本身的定义分两大类:\n",
    " - 函数定义的decorator, **decorator 本身是使用 函数定义的.**\n",
    "   * 不带参数, 即装饰器本身不带参数的.\n",
    "   * 带参数, 即装饰器本身带参数的.\n",
    " - 类定义的decorator, **decorator 本身是使用 类定义的.**\n",
    "   * 不带参数, 即装饰器本身不带参数的.\n",
    "   * 带参数, 即装饰器本身带参数的. \n",
    "\n",
    "按照 装饰器的用途, 即装饰的是 普通函数, 还是类方法又分两大类.\n",
    "\n",
    "Python 对 decorator 的定义:\n",
    ">A decorator is a function which accepts a function and returns a new function. Since it’s a function, we must provide three pieces of information: the name of the decorator, a parameter, and a suite of statements that creates and returns the resulting function.\n",
    "\n",
    ">The suite of statements in a decorator will generally include a function def statement to create the new function and a return statement.\n",
    "\n",
    ">A common alternative is to include a class definition statement . If a class definition is used, that class must define a callable object by including a definition for the \\_\\_call\\_\\_() method and (usually) being a subclass of collections.Callable.\n",
    "\n",
    ">There are two kinds of decorators, decorators without arguments and decorators with arguments. In the first case, the operation of the decorator is very simple. In the case where the decorator accepts areguments the definition of the decorator is rather obscure, we’ll return to this in Defining Complex Decorators.\n",
    "\n",
    "\n",
    "\n",
    "## Function Decorator"
   ]
  },
  {
   "cell_type": "code",
   "execution_count": 125,
   "metadata": {
    "collapsed": false
   },
   "outputs": [
    {
     "name": "stdout",
     "output_type": "stream",
     "text": [
      "('Entring', 'func1')\n",
      "call func1()\n",
      "('Exited', 'func1')\n",
      "('Entring', 'func2')\n",
      "call func2()\n",
      "('Exited', 'func2')\n",
      "new_f\n"
     ]
    }
   ],
   "source": [
    "def entry_exit(f):\n",
    "    def new_f():\n",
    "        print(\"Entring\", f.__name__)\n",
    "        f()\n",
    "        print(\"Exited\", f.__name__)\n",
    "        #new_f.__name__ = f.__name__\n",
    "    return new_f\n",
    "    #return new_f()\n",
    "\n",
    "@entry_exit\n",
    "def func1():\n",
    "    print(\"call func1()\")\n",
    "\n",
    "@entry_exit\n",
    "def func2():\n",
    "    print(\"call func2()\")\n",
    "\n",
    "func1()\n",
    "func2()\n",
    "print(func1.__name__)"
   ]
  },
  {
   "cell_type": "markdown",
   "metadata": {},
   "source": [
    "这个简单的例子, 可以看出, 经过装饰器 `@entry_exit` 装饰的函数, 他的相关信息发生改变了! 函数名字变成了 new\\_f. **因此, 我们一般会在返回 new\\_f 之前修改 new\\_f.\\_\\_name\\_\\_ 等函数本身自带的属性信息为 原来的函数!** 稍后,我们还会看到, 可以实现一个装饰器实现这个功能, 而且 Python 的一些包已经实现了!"
   ]
  },
  {
   "cell_type": "code",
   "execution_count": 126,
   "metadata": {
    "collapsed": false
   },
   "outputs": [
    {
     "name": "stdout",
     "output_type": "stream",
     "text": [
      "<p>kinny Tian</p>\n"
     ]
    }
   ],
   "source": [
    "def p_decorator(func):\n",
    "   def wrapper(*args, **kwargs):\n",
    "       return \"<p>{0}</p>\".format(func(*args, **kwargs))\n",
    "   return wrapper\n",
    "\n",
    "class Person(object):\n",
    "    def __init__(self):\n",
    "        self.name = \"kinny\"\n",
    "        self.family = \"Tian\"\n",
    "\n",
    "    @p_decorator\n",
    "    def get_fullname(self):\n",
    "        return self.name+\" \"+self.family\n",
    "\n",
    "my_person = Person()\n",
    "\n",
    "print my_person.get_fullname()"
   ]
  },
  {
   "cell_type": "markdown",
   "metadata": {},
   "source": [
    "### 无参数的 function decorator"
   ]
  },
  {
   "cell_type": "markdown",
   "metadata": {},
   "source": [
    "无参数的 function decorator 模式比较固定, 由于 decorator 本身没有额外参数, 写法也很简单, **遵循传入函数, 返回一个经过包装的函数的原则即可, 只有两个层次**. 这个内部返回函数的参数一般通用的写法是 `resultFunction(*args, **kwargs)`. 这个参数同时也可以接受被包装函数的参数, 因此写法更加通用! 当然如果你的装饰器只给某些特定的函数用, 那么参数也可以是这些特定的被包装函数参数保持一致即可!\n",
    "```python\n",
    "def myDecorator( argumentFunction ):\n",
    "    def resultFunction(*args, **kwargs):\n",
    "        dosomething()\n",
    "        argumentFunction(*args, **kwargs)\n",
    "        dosomething()\n",
    "    resultFunction.__doc__= argumentFunction.__doc__\n",
    "    return resultFunction\n",
    "```"
   ]
  },
  {
   "cell_type": "markdown",
   "metadata": {},
   "source": [
    "### 有参数的 function decorator\n",
    "**带参数的 function decorator 写法稍微复杂, 因为他自己也有参数. 所以第一层次函数, 就不能把 被包装函数当参数了. 那么只有内部多加一层次, 用来接受被包装函数参数了! 因此他的经典写法是 三层次!**"
   ]
  },
  {
   "cell_type": "code",
   "execution_count": 130,
   "metadata": {
    "collapsed": false
   },
   "outputs": [
    {
     "name": "stdout",
     "output_type": "stream",
     "text": [
      "Enter wrap()\n",
      "Exit wrap()\n",
      "After decoration\n",
      "----------------Preparing to call sayHello()----------------\n",
      "Inside wrapped_f()\n",
      "('Decorator arguments: ', 'hello', 'world', 22)\n",
      "('sayHello arguments:', 'say', 'hello', 'argument', 'list')\n",
      "After f(*args)\n",
      "----------------After first sayHello() call----------------\n",
      "Inside wrapped_f()\n",
      "('Decorator arguments: ', 'hello', 'world', 22)\n",
      "('sayHello arguments:', 'a', 'different', 'set of', 'arguments')\n",
      "After f(*args)\n",
      "----------------After second sayHello() call----------------\n"
     ]
    }
   ],
   "source": [
    "def decorator_function_with_arguments(arg1, arg2, arg3):\n",
    "    def wrap(f):\n",
    "        print(\"Enter wrap()\")\n",
    "        \n",
    "        def wrapped_f(*args):\n",
    "            print(\"Inside wrapped_f()\")\n",
    "            print(\"Decorator arguments: \", arg1, arg2, arg3)\n",
    "            f(*args)\n",
    "            print(\"After f(*args)\")\n",
    "        \n",
    "        print(\"Exit wrap()\")\n",
    "        return wrapped_f\n",
    "\n",
    "    return wrap\n",
    "\n",
    "@decorator_function_with_arguments(\"hello\", \"world\", 22)\n",
    "def sayHello(a1, a2, a3, a4):\n",
    "    print('sayHello arguments:', a1, a2, a3, a4)\n",
    "\n",
    "print(\"After decoration\")\n",
    "\n",
    "print(\"----------------Preparing to call sayHello()----------------\")\n",
    "sayHello(\"say\", \"hello\", \"argument\", \"list\")\n",
    "print(\"----------------After first sayHello() call----------------\")\n",
    "sayHello(\"a\", \"different\", \"set of\", \"arguments\")\n",
    "print(\"----------------After second sayHello() call----------------\")"
   ]
  },
  {
   "cell_type": "markdown",
   "metadata": {},
   "source": [
    ">来看看常见的函数decorator为啥都要写几层包裹函数，这是很多例子都有的，但是没告诉你为啥要这样写。\n",
    "\n",
    "Python 解释器读取到 `@decorator_function_with_arguments(\"hello\", \"world\", 22)` 时，首先查找 `decorator_function_with_arguments` 并调用，但是 Python 知道这是一个装饰器啊，他还需要一个 被装饰的函数 `f` 做参数，和 class decorator 一样， 在完成 `dfwa = decorator_function_with_arguments(arg1, arg2, arg3)` 之后，继续 寻找 `f`， 然后 `f = dfwa(f)`, 此时还是装饰过程， 因此 返回的还必须是 callable 对象，即函数。 也就是说， **Python 的 带参数函数装饰器 解释过程 就是 `f = dfwa(arg)(f) => f()` 模型，三个调用才发生真正的调用，因此 function decorator 里面 必须是 嵌套 2 层 wrap func.**"
   ]
  },
  {
   "cell_type": "markdown",
   "metadata": {},
   "source": [
    "## Class Decorator\n",
    "**因为 Python 要求装饰器必须返回一个 callable 对象, 因此, class decorator 必须要实现 \\_\\_call\\_\\_ 函数, 这样, 返回的对象才能被调用!**\n",
    "\n",
    "### 无参数的 class decorator\n",
    "**如果无参数, 那么解释器碰到 `@decorator_without_arguments` 就会直接寻找 被装饰函数 `f`, 然后构造装饰后的对象! 因此 `decorator_without_arguments` 的 初始化方法 \\_\\_init\\_\\_() 的参数就是 f 了. 然后新构造的对象, 每次被调用的时候, 就是 `decorated.__call__(*args)`.**"
   ]
  },
  {
   "cell_type": "code",
   "execution_count": 132,
   "metadata": {
    "collapsed": false
   },
   "outputs": [
    {
     "name": "stdout",
     "output_type": "stream",
     "text": [
      "Inside __init__()\n",
      "After decoration\n",
      "----------------Preparing to call sayHello()----------------\n",
      "Inside __call__()\n",
      "('sayHello arguments:', 'say', 'hello', 'argument', 'list')\n",
      "After self.f(*args)\n",
      "----------------After first sayHello() call----------------\n",
      "Inside __call__()\n",
      "('sayHello arguments:', 'a', 'different', 'set of', 'arguments')\n",
      "After self.f(*args)\n",
      "----------------After second sayHello() call----------------\n"
     ]
    }
   ],
   "source": [
    "class decorator_without_arguments(object):\n",
    "\n",
    "    def __init__(self, f):\n",
    "        \"\"\"\n",
    "        If there are no decorator arguments, the function\n",
    "        to be decorated is passed to the constructor.\n",
    "        \"\"\"\n",
    "        print(\"Inside __init__()\")\n",
    "        self.f = f\n",
    "\n",
    "    def __call__(self, *args):\n",
    "        \"\"\"\n",
    "        The __call__ method is not called until the\n",
    "        decorated function is called.\n",
    "        \"\"\"\n",
    "        print(\"Inside __call__()\")\n",
    "        self.f(*args)\n",
    "        print(\"After self.f(*args)\")\n",
    "\n",
    "@decorator_without_arguments\n",
    "def sayHello(a1, a2, a3, a4):\n",
    "    print('sayHello arguments:', a1, a2, a3, a4)\n",
    "\n",
    "print(\"After decoration\")\n",
    "\n",
    "print(\"----------------Preparing to call sayHello()----------------\")\n",
    "sayHello(\"say\", \"hello\", \"argument\", \"list\")\n",
    "print(\"----------------After first sayHello() call----------------\")\n",
    "sayHello(\"a\", \"different\", \"set of\", \"arguments\")\n",
    "print(\"----------------After second sayHello() call----------------\")"
   ]
  },
  {
   "cell_type": "markdown",
   "metadata": {},
   "source": [
    "当 Python 解释器读取到 `@decorator_without_arguments` 时，由于 `decorator_without_arguments` 是装饰器，初始化需要被装饰的 `f` 做参数，因此继续读取 `def sayHello`， 拿到参数后， 就执行 `sayHello = decorator_without_arguments(sayHello)`, 是个 `callable` 对象。以后 `sayHello()` 的调用就是 `sayHello.__call__()`."
   ]
  },
  {
   "cell_type": "markdown",
   "metadata": {},
   "source": [
    "### 带参数的 class decorator\n",
    "**如果 class decorator 本身还需要 参数 做初始化, 那么就和 带参数的function decorator 一样, 初始化的时候, 不能加 `f` 做参数了, 然后碰到 `f` 时候会再次被调用一次, 返回一个 callable 对象或者说一个函数. 此时, \\_\\_call\\_\\_ 就必须加 `f` 作为参数, 导致 \\_\\_call\\_\\_ 内部必须再写一个函数, 返回.**"
   ]
  },
  {
   "cell_type": "code",
   "execution_count": 133,
   "metadata": {
    "collapsed": false
   },
   "outputs": [
    {
     "name": "stdout",
     "output_type": "stream",
     "text": [
      "Inside __init__()\n",
      "Inside __call__()\n",
      "After decoration\n",
      "----------------Preparing to call sayHello()----------------\n",
      "Inside wrapped_f()\n",
      "('Decorator arguments:', 'hello', 'world', 22)\n",
      "('sayHello arguments:', 'say', 'hello', 'argument', 'list')\n",
      "After f(*args)\n",
      "----------------After first sayHello() call----------------\n",
      "Inside wrapped_f()\n",
      "('Decorator arguments:', 'hello', 'world', 22)\n",
      "('sayHello arguments:', 'a', 'different', 'set of', 'arguments')\n",
      "After f(*args)\n",
      "----------------After second sayHello() call----------------\n"
     ]
    }
   ],
   "source": [
    "class decorator_with_arguments(object):\n",
    "\n",
    "    def __init__(self, arg1, arg2, arg3):\n",
    "        \"\"\"\n",
    "        If there are decorator arguments, the function\n",
    "        to be decorated is not passed to the constructor!\n",
    "        \"\"\"\n",
    "        print(\"Inside __init__()\")\n",
    "        self.arg1 = arg1\n",
    "        self.arg2 = arg2\n",
    "        self.arg3 = arg3\n",
    "\n",
    "    def __call__(self, f):\n",
    "        \"\"\"\n",
    "        If there are decorator arguments, __call__() is only called\n",
    "        once, as part of the decoration process! You can only give\n",
    "        it a single argument, which is the function object.\n",
    "        \"\"\"\n",
    "        print(\"Inside __call__()\")\n",
    "        def wrapped_f(*args):\n",
    "            print(\"Inside wrapped_f()\")\n",
    "            print(\"Decorator arguments:\", self.arg1, self.arg2, self.arg3)\n",
    "            f(*args)\n",
    "            print(\"After f(*args)\")\n",
    "        return wrapped_f\n",
    "\n",
    "@decorator_with_arguments(\"hello\", \"world\", 22)\n",
    "def sayHello(a1, a2, a3, a4):\n",
    "    print('sayHello arguments:', a1, a2, a3, a4)\n",
    "\n",
    "print(\"After decoration\")\n",
    "\n",
    "print(\"----------------Preparing to call sayHello()----------------\")\n",
    "sayHello(\"say\", \"hello\", \"argument\", \"list\")\n",
    "print(\"----------------After first sayHello() call----------------\")\n",
    "sayHello(\"a\", \"different\", \"set of\", \"arguments\")\n",
    "print(\"----------------After second sayHello() call----------------\")"
   ]
  },
  {
   "cell_type": "markdown",
   "metadata": {},
   "source": [
    "当 Python 解释器读取到 `@decorator_with_arguments(\"hello\", \"world\", 22)` 时完成初始化，带参数的 decorator 首先使用其参数初始化，`dwa = decorator_with_arguments(\"hello\", \"world\", 22)`。由于 decorator_with_arguments 是装饰器，需要被装饰的 f 做参数，因此继续读取 `def sayHello`， 拿到参数后， 就执行 `sayHello = dwa(sayHello)`, 返回的是 `wrapped_f`。**class decorator的 解释模型 就是 `f = dcwa(args)(f) => f()`.**"
   ]
  },
  {
   "cell_type": "markdown",
   "metadata": {},
   "source": [
    "# 深入理解decorator\n",
    "**decorator 本身很容易修改原来函数的名字等属性, 因此我们需要保持原来的属性! 将我们返回的 callable 对象的 \\_\\_name\\_\\_ \\_\\_doc\\_\\_ 和 \\_\\_module\\_\\_ 修改为被装饰的对象的即可!**\n"
   ]
  },
  {
   "cell_type": "code",
   "execution_count": 144,
   "metadata": {
    "collapsed": false
   },
   "outputs": [
    {
     "name": "stdout",
     "output_type": "stream",
     "text": [
      "('Entering', 'func1')\n",
      "call func1()\n",
      "('Exited', 'func1')\n",
      "('Entering', 'func2')\n",
      "call func2()\n",
      "('Exited', 'func2')\n",
      "func1\n",
      "函数func1\n",
      "__main__\n",
      "func1\n",
      "函数func1\n",
      "__main__\n"
     ]
    }
   ],
   "source": [
    "class entry_exit(object):\n",
    "\n",
    "    def __init__(self, f):\n",
    "        self.f = f\n",
    "        self.__name__ = f.__name__\n",
    "        self.__doc__ = f.__doc__\n",
    "        self.__module__ = f.__module__\n",
    "\n",
    "    def __call__(self):\n",
    "        print(\"Entering\", self.f.__name__)\n",
    "        self.f()\n",
    "        print(\"Exited\", self.f.__name__)\n",
    "\n",
    "@entry_exit\n",
    "def func1():\n",
    "    \"\"\"函数func1\"\"\"\n",
    "    print(\"call func1()\")\n",
    "\n",
    "@entry_exit\n",
    "def func2():\n",
    "    \"\"\"函数func2\"\"\"\n",
    "    print(\"call func2()\")\n",
    "\n",
    "func1()\n",
    "func2()\n",
    "print func1.__name__\n",
    "print func1.__doc__\n",
    "print func1.__module__\n",
    "print func1.f.__name__\n",
    "print func1.f.__doc__\n",
    "print func1.f.__module__"
   ]
  },
  {
   "cell_type": "markdown",
   "metadata": {},
   "source": [
    "其实 functools 包里面提供来了一个 wraps 装饰器, 可以完成函数属性不变的功能!"
   ]
  },
  {
   "cell_type": "code",
   "execution_count": 158,
   "metadata": {
    "collapsed": false
   },
   "outputs": [
    {
     "name": "stdout",
     "output_type": "stream",
     "text": [
      "('Entring', 'func1')\n",
      "call func1()\n",
      "('Exited', 'func1')\n",
      "func1\n",
      "函数func1\n",
      "__main__\n"
     ]
    }
   ],
   "source": [
    "from functools import wraps\n",
    "def entry_exit(f):\n",
    "    @wraps(f)\n",
    "    def new_f():\n",
    "        print(\"Entring\", f.__name__)\n",
    "        f()\n",
    "        print(\"Exited\", f.__name__)\n",
    "    return new_f\n",
    "\n",
    "@entry_exit\n",
    "def func1():\n",
    "    \"\"\"函数func1\"\"\"\n",
    "    print(\"call func1()\")\n",
    "\n",
    "func1()\n",
    "print(func1.__name__)\n",
    "print(func1.__doc__)\n",
    "print(func1.__module__)"
   ]
  },
  {
   "cell_type": "markdown",
   "metadata": {},
   "source": [
    "以上装饰器的实现其实也很简单, 给出一个自己实现的简单版本!\n",
    "```python\n",
    "def wraps(decoratedFunc):\n",
    "    def wrapper(decorator):\n",
    "        decorator.__name__ = decoratedFunc.__name__\n",
    "        decorator.__module__ = decoratedFunc.__module__\n",
    "        decorator.__doc__ = decoratedFunc.__doc__\n",
    "        return decorator\n",
    "    \n",
    "    return wrapper\n",
    "```"
   ]
  },
  {
   "cell_type": "markdown",
   "metadata": {},
   "source": [
    "# 复杂decorator\n",
    "Python 内置了三个 基本的 decorator, `@staticmethod`, `@classmethod`, `@property`, 还有许多更加复杂的 decorator, 可以装饰类等, 还涉及到 metaprogramming, 下一次准备深入一下现实开源代码中的decorator, 先总结到这里!\n",
    "```python\n",
    "def bar():\n",
    "    pass\n",
    "bar = staticmethod(bar)\n",
    "\n",
    "等价于\n",
    "@staticmethod\n",
    "def bar():\n",
    "    pass\n",
    "```\n",
    "\n",
    "# 总结\n",
    "\n",
    "什么是装饰器，就是装饰函数或者类的函数或类。那么他就必须接受 一个函数或者类当参数， 然后装饰它， 最后返回 装饰好的 函数或类。类比大象放冰箱分三步，decorator三步走：\n",
    "\n",
    " 1. 把 被装饰者 传递给 装饰者;\n",
    " 2. 在 装饰者 内部装饰 这个 被装饰者。由于 需要返回一个 被装饰的 对象， 因此 在装饰者 内部 一定至少会 定义一个新的 函数;\n",
    " 3. 返回 装饰者 新定义的 callable 对象 即经过装饰后的对象;\n",
    "\n",
    "\n",
    "\n",
    "装饰器并不仅仅体现了函数式编程， 它体现的更加本质的东西是**一处代码被另一处代码动态修改或者说替换**，这也正是编译型语言做不到的事情，例如C/C++就做不到。一个**语言要想动态的修改自己，绝对需要靠虚拟机或者解释器在运行的时候来帮忙**， 编译器只能在还没有运行的时候修改代码, 动态运行时候是没有办法做的；\n",
    "\n",
    "Java具有反射机制，动态产生和构造一个类，实际上就是因为它有一个虚拟机，虚拟机提供了这种接口。所以，**解释型语言都具备很大的灵活性和可操作性。**\n",
    "\n",
    "当然你也可以从另一个层面来理解装饰器， 就是以 decorator 为代码主体，即把里面的 decorator 看成是 C 语言里的 micro 宏定义， 把 decorated 看成实际的宏替换实例。例如 `define micro 777` 就是这里的 `@decorator decorated`, 只不过这里的 **宏 替换换过程是 静态的，装饰器替换是 动态的, 因为 C 语言是 静态 编译类型，Python 是 动态 解释类型语言嘛^\\_^**;因此本质上就是**少写代码，动态修改** ^\\_^\n",
    "\n",
    "再来看看 decorator 的 @ 写法， 实际上是带领我们进入另一种 程序设计思维， 虽然本质上是 函数式 或者 宏替换。即 把 代码 运用到 代码 中。记住一个观点，软件工程的所有设计方法，有99%其实是因为懒。即为了 少 写 代码。代码写的越少，越易读，易维护，易扩展，易重构。但是少写代码并不意味着你真的少写了代码，实际上你看看开源社区，我们的代码 肯定是 越来越多的。但是 从 历史的 角度来看， 代码是越写越少。"
   ]
  },
  {
   "cell_type": "markdown",
   "metadata": {},
   "source": [
    "# 参考\n",
    " - [Decorators](http://python-3-patterns-idioms-test.readthedocs.io/en/latest/PythonDecorators.html)\n",
    " - [Understanding Python Decorators in 12 Easy Steps!](http://simeonfranklin.com/blog/2012/jul/1/python-decorators-in-12-steps/#footnote_2)\n",
    " - [Python Decorators](https://pythonconquerstheuniverse.wordpress.com/2012/04/29/python-decorators/)\n",
    " - [Primer on Python Decorators](https://realpython.com/blog/python/primer-on-python-decorators/)web flask为例子讲解decorator使用场景\n",
    " - [guide-to-python-function-decorators](http://thecodeship.com/patterns/guide-to-python-function-decorators/)以html渲染为例子，还讲了functools.wraps的由来\n",
    " - [pep-0318](https://www.python.org/dev/peps/pep-0318/#current-syntax)"
   ]
  }
 ],
 "metadata": {
  "kernelspec": {
   "display_name": "Python 2",
   "language": "python",
   "name": "python2"
  },
  "language_info": {
   "codemirror_mode": {
    "name": "ipython",
    "version": 2
   },
   "file_extension": ".py",
   "mimetype": "text/x-python",
   "name": "python",
   "nbconvert_exporter": "python",
   "pygments_lexer": "ipython2",
   "version": "2.7.12"
  }
 },
 "nbformat": 4,
 "nbformat_minor": 2
}
