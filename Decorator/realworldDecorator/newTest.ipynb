{
 "cells": [
  {
   "cell_type": "markdown",
   "metadata": {},
   "source": [
    "# Python \\_\\_new\\_\\_() & \\_\\_init\\_\\_()"
   ]
  },
  {
   "cell_type": "markdown",
   "metadata": {},
   "source": [
    "Python 对象的创建涉及到两个函数, \\_\\_new\\_\\_() 和 \\_\\_init\\_\\_(). 这两个函数的区别是什么呢?\n",
    "\n",
    "本文解决两个问题:\n",
    " 1. 什么是静态方法\n",
    " 2. 如何使用 \\_\\_new\\_\\_()\n",
    " \n",
    "## static methods\n",
    "和Java 一样, **Python 也拥有静态方法, 静态方法属于类,而不是类实例. Python 中申明一个静态方法通过装饰器 @staticmethod 完成!**"
   ]
  },
  {
   "cell_type": "code",
   "execution_count": 1,
   "metadata": {
    "collapsed": true
   },
   "outputs": [],
   "source": [
    "class Alpha():\n",
    "    def hack(self, a, b):\n",
    "        self.a = a\n",
    "        self.b = b\n",
    "        print a, b\n",
    "    def unhack(self):\n",
    "        print self.a, self.b"
   ]
  },
  {
   "cell_type": "code",
   "execution_count": 2,
   "metadata": {
    "collapsed": false
   },
   "outputs": [
    {
     "name": "stdout",
     "output_type": "stream",
     "text": [
      "1 2\n"
     ]
    }
   ],
   "source": [
    "obj = Alpha()\n",
    "obj.hack(1,2)"
   ]
  },
  {
   "cell_type": "code",
   "execution_count": 3,
   "metadata": {
    "collapsed": false
   },
   "outputs": [
    {
     "name": "stdout",
     "output_type": "stream",
     "text": [
      "1 2\n"
     ]
    }
   ],
   "source": [
    "obj.unhack()"
   ]
  },
  {
   "cell_type": "code",
   "execution_count": 4,
   "metadata": {
    "collapsed": false
   },
   "outputs": [
    {
     "ename": "TypeError",
     "evalue": "unbound method hack() must be called with Alpha instance as first argument (got int instance instead)",
     "output_type": "error",
     "traceback": [
      "\u001b[0;31m---------------------------------------------------------------------------\u001b[0m",
      "\u001b[0;31mTypeError\u001b[0m                                 Traceback (most recent call last)",
      "\u001b[0;32m<ipython-input-4-36142b2a0e7c>\u001b[0m in \u001b[0;36m<module>\u001b[0;34m()\u001b[0m\n\u001b[0;32m----> 1\u001b[0;31m \u001b[0mAlpha\u001b[0m\u001b[0;34m.\u001b[0m\u001b[0mhack\u001b[0m\u001b[0;34m(\u001b[0m\u001b[0;36m1\u001b[0m\u001b[0;34m,\u001b[0m\u001b[0;36m2\u001b[0m\u001b[0;34m)\u001b[0m\u001b[0;34m\u001b[0m\u001b[0m\n\u001b[0m",
      "\u001b[0;31mTypeError\u001b[0m: unbound method hack() must be called with Alpha instance as first argument (got int instance instead)"
     ]
    }
   ],
   "source": [
    "Alpha.hack(1,2)"
   ]
  },
  {
   "cell_type": "markdown",
   "metadata": {},
   "source": [
    ">我们看到非静态方法属于类实例, 必须要一个实例对象做参数才能调用!那么是否可以这样呢?"
   ]
  },
  {
   "cell_type": "code",
   "execution_count": 5,
   "metadata": {
    "collapsed": false
   },
   "outputs": [
    {
     "name": "stdout",
     "output_type": "stream",
     "text": [
      "3 4\n"
     ]
    }
   ],
   "source": [
    "Alpha.hack(obj, 3, 4)"
   ]
  },
  {
   "cell_type": "code",
   "execution_count": 6,
   "metadata": {
    "collapsed": false
   },
   "outputs": [
    {
     "name": "stdout",
     "output_type": "stream",
     "text": [
      "3 4\n"
     ]
    }
   ],
   "source": [
    "Alpha.unhack(obj)"
   ]
  },
  {
   "cell_type": "markdown",
   "metadata": {},
   "source": [
    "正常运行! 你会发现,其实 Python 使用 obj.hack() 只是像C++/Java一样的语法糖而已, 本质上是在调用一个方法(代码), 真实情况是 Alpha.hack(obj, 3, 4). 这就是为什么在 Python 中写 一个类, 实例方法必须要加上 self 的原因了! \n",
    "\n",
    "`unbound method hack() must be called with Alpha instance as first argument (got int instance instead)`.\n",
    "\n",
    "**未绑定的方法, 被调用的时候 必须使用 实例变量做第一个参数!** \n",
    "\n",
    ">未绑定是什么意思? \n",
    "\n",
    "**正常情况下, obj.hack(\\*args) 其实会被 Python 解释器 翻译成 Alpha.hack(obj, \\*args), 和我们的猜测是一致的! 如果类的内部定义的方法, 没有 self 参数或者 @staticmethod, 那么方法其实就是一个孤立的方法, 命名空间在 Alpha 之下的一个普通方法而已, 并没有和某个实例或者类绑定起来!** 因此抛出 `unbound method` 异常!\n",
    "\n",
    "这也是 Python 著名的动态绑定特性! 你写的一个 类的代码, 不一定就是这个类或者的实例最终的形态! 方法和属性都是可以动态的绑定到类实例的!"
   ]
  },
  {
   "cell_type": "code",
   "execution_count": 7,
   "metadata": {
    "collapsed": true
   },
   "outputs": [],
   "source": [
    "class Beta():\n",
    "    @staticmethod\n",
    "    def hack(a, b):\n",
    "#         self.a = a # 显然不能在静态方法中绑定 成员属性吧\n",
    "#         self.b = b\n",
    "        print a, b\n",
    "    def unhack(self):\n",
    "        pass"
   ]
  },
  {
   "cell_type": "code",
   "execution_count": 8,
   "metadata": {
    "collapsed": false
   },
   "outputs": [
    {
     "name": "stdout",
     "output_type": "stream",
     "text": [
      "1 2\n"
     ]
    }
   ],
   "source": [
    "Beta.hack(1,2)"
   ]
  },
  {
   "cell_type": "markdown",
   "metadata": {},
   "source": [
    "## \\_\\_new\\_\\_() & \\_\\_init\\_\\_()"
   ]
  },
  {
   "cell_type": "code",
   "execution_count": 9,
   "metadata": {
    "collapsed": true
   },
   "outputs": [],
   "source": [
    "class A(object):\n",
    "    def __init__(self, a, b):\n",
    "        print \"init called\"\n",
    "        print \"self is\", self\n",
    "        self.a, self.b = a, b"
   ]
  },
  {
   "cell_type": "code",
   "execution_count": 10,
   "metadata": {
    "collapsed": false
   },
   "outputs": [
    {
     "name": "stdout",
     "output_type": "stream",
     "text": [
      "init called\n",
      "self is <__main__.A object at 0x7f64c004a210>\n"
     ]
    }
   ],
   "source": [
    "a = A(1,2)"
   ]
  },
  {
   "cell_type": "markdown",
   "metadata": {},
   "source": [
    "我们看到, **\\_\\_init\\_\\_() 并不创建对象, 而是直接使用对象了! 说明在 \\_\\_init\\_\\_() 调用之前, 对象已经被创建了!**\n",
    "\n",
    "> 谁创建的对象?\n",
    "\n",
    "其实是 **\\_\\_new\\_\\_() 方法创建的对象!** 以下是关于 \\_\\_new\\_\\_() 的几点规则:\n",
    "\n",
    "1. **\\_\\_new\\_\\_() 肯定不是实例方法, 因为这个时候还没的实例!**\n",
    "2. **\\_\\_new\\_\\_() 被调用当看到 `a=A()` 这种语句的时候.**\n",
    "3. **\\_\\_new\\_\\_() 必须返回一个对象.**\n",
    "4. **只有当 \\_\\_new\\_\\_() 返回一个对象的时候, \\_\\_init\\_\\_() 才会被调用.**\n",
    "5. **\\_\\_new\\_\\_() 获取所有调用 class 时候传递过来的参数, 另外, 还有一个额外的 cls 参数!**\n",
    "6. **\\_\\_new\\_\\_() 是从 object 类继承来的, 因为 Python 中所有类的基类都是 object.**"
   ]
  },
  {
   "cell_type": "markdown",
   "metadata": {},
   "source": [
    "### 覆盖 \\_\\_new\\_\\_() 方法"
   ]
  },
  {
   "cell_type": "code",
   "execution_count": 11,
   "metadata": {
    "collapsed": true
   },
   "outputs": [],
   "source": [
    "class A(object):\n",
    "    def __new__(cls, *args, **kwargs):\n",
    "        print cls\n",
    "        print \"args is\", args\n",
    "        print \"kwargs is\", kwargs"
   ]
  },
  {
   "cell_type": "code",
   "execution_count": 12,
   "metadata": {
    "collapsed": false
   },
   "outputs": [
    {
     "name": "stdout",
     "output_type": "stream",
     "text": [
      "<class '__main__.A'>\n",
      "args is ()\n",
      "kwargs is {}\n"
     ]
    }
   ],
   "source": [
    "a = A()"
   ]
  },
  {
   "cell_type": "code",
   "execution_count": 13,
   "metadata": {
    "collapsed": false
   },
   "outputs": [
    {
     "name": "stdout",
     "output_type": "stream",
     "text": [
      "<class '__main__.A'>\n",
      "args is (1, 2)\n",
      "kwargs is {'named': 'sad'}\n"
     ]
    }
   ],
   "source": [
    "a = A(1,2, named=\"sad\")"
   ]
  },
  {
   "cell_type": "code",
   "execution_count": 14,
   "metadata": {
    "collapsed": false
   },
   "outputs": [
    {
     "name": "stdout",
     "output_type": "stream",
     "text": [
      "None\n"
     ]
    }
   ],
   "source": [
    "print a"
   ]
  },
  {
   "cell_type": "markdown",
   "metadata": {},
   "source": [
    "由于\\_\\_new\\_\\_() 没有返回对象, 因此 a 是 None."
   ]
  },
  {
   "cell_type": "code",
   "execution_count": 15,
   "metadata": {
    "collapsed": true
   },
   "outputs": [],
   "source": [
    "import datetime\n",
    "\n",
    "class B(object):\n",
    "    def __new__(cls, *args, **kwargs):\n",
    "        instance = super(B, cls).__new__(cls, *args, **kwargs)\n",
    "        setattr(instance, 'created_at', datetime.datetime.now())\n",
    "        return instance\n",
    "    def __init__(self, a, b):\n",
    "        print \"inside init\"\n",
    "        print self.created_at\n",
    "        self.a, self.b = a, b"
   ]
  },
  {
   "cell_type": "code",
   "execution_count": 16,
   "metadata": {
    "collapsed": false
   },
   "outputs": [
    {
     "name": "stdout",
     "output_type": "stream",
     "text": [
      "inside init\n",
      "2017-04-23 20:47:57.021831\n"
     ]
    },
    {
     "name": "stderr",
     "output_type": "stream",
     "text": [
      "/usr/local/lib/python2.7/dist-packages/ipykernel/__main__.py:5: DeprecationWarning: object() takes no parameters\n"
     ]
    }
   ],
   "source": [
    "obj = B(1,2)"
   ]
  },
  {
   "cell_type": "code",
   "execution_count": 17,
   "metadata": {
    "collapsed": false
   },
   "outputs": [
    {
     "name": "stdout",
     "output_type": "stream",
     "text": [
      "<__main__.B object at 0x7f64c005d590>\n"
     ]
    }
   ],
   "source": [
    "class B(object):\n",
    "    pass\n",
    "\n",
    "class A(object):\n",
    "    def __new__(cls, *args, **kwargs):\n",
    "        new_instance = object.__new__(B, *args, **kwargs)\n",
    "        return new_instance\n",
    "a = A()\n",
    "print a"
   ]
  },
  {
   "cell_type": "markdown",
   "metadata": {},
   "source": [
    "### Python2 & Python3\n",
    "\n",
    "```python\n",
    "#python2 写法, 兼容 Python3\n",
    "return super(A, cls).__new__(cls, *args, **kwargs)\n",
    "\n",
    "#python3 写法\n",
    "return super().__new__(cls, *args, **kwargs)\n",
    "```"
   ]
  },
  {
   "cell_type": "code",
   "execution_count": null,
   "metadata": {
    "collapsed": true
   },
   "outputs": [],
   "source": []
  }
 ],
 "metadata": {
  "kernelspec": {
   "display_name": "Python 2",
   "language": "python",
   "name": "python2"
  },
  "language_info": {
   "codemirror_mode": {
    "name": "ipython",
    "version": 2
   },
   "file_extension": ".py",
   "mimetype": "text/x-python",
   "name": "python",
   "nbconvert_exporter": "python",
   "pygments_lexer": "ipython2",
   "version": "2.7.12"
  }
 },
 "nbformat": 4,
 "nbformat_minor": 2
}
