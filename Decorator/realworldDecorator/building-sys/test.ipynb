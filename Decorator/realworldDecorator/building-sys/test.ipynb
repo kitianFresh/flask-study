{
 "cells": [
  {
   "cell_type": "code",
   "execution_count": 1,
   "metadata": {
    "collapsed": false,
    "deletable": true,
    "editable": true
   },
   "outputs": [],
   "source": [
    "from smartbuilder import graphlib\n",
    "g = graphlib.Graph()"
   ]
  },
  {
   "cell_type": "code",
   "execution_count": 2,
   "metadata": {
    "collapsed": false,
    "deletable": true,
    "editable": true
   },
   "outputs": [
    {
     "ename": "KeyError",
     "evalue": "'index.rst'",
     "output_type": "error",
     "traceback": [
      "\u001b[0;31m---------------------------------------------------------------------------\u001b[0m",
      "\u001b[0;31mKeyError\u001b[0m                                  Traceback (most recent call last)",
      "\u001b[0;32m<ipython-input-2-cce9917219c1>\u001b[0m in \u001b[0;36m<module>\u001b[0;34m()\u001b[0m\n\u001b[1;32m      4\u001b[0m \u001b[0;34m\u001b[0m\u001b[0m\n\u001b[1;32m      5\u001b[0m \u001b[0mconsequences_of\u001b[0m \u001b[0;34m=\u001b[0m \u001b[0;34m{\u001b[0m\u001b[0;34m}\u001b[0m\u001b[0;34m\u001b[0m\u001b[0m\n\u001b[0;32m----> 6\u001b[0;31m \u001b[0mconsequences_of\u001b[0m\u001b[0;34m[\u001b[0m\u001b[0;34m'index.rst'\u001b[0m\u001b[0;34m]\u001b[0m\u001b[0;34m.\u001b[0m\u001b[0madd\u001b[0m\u001b[0;34m(\u001b[0m\u001b[0;34m'index.html'\u001b[0m\u001b[0;34m)\u001b[0m\u001b[0;34m\u001b[0m\u001b[0m\n\u001b[0m",
      "\u001b[0;31mKeyError\u001b[0m: 'index.rst'"
     ]
    }
   ],
   "source": [
    "g.add_edge('index.rst', 'index.html')\n",
    "g.add_edge('tutorial.rst', 'tutorial.html')\n",
    "g.add_edge('api.rst', 'api.html')\n",
    "\n",
    "consequences_of = {}\n",
    "consequences_of['index.rst'].add('index.html')"
   ]
  },
  {
   "cell_type": "code",
   "execution_count": null,
   "metadata": {
    "collapsed": false,
    "deletable": true,
    "editable": true
   },
   "outputs": [],
   "source": [
    "from collections import defaultdict\n",
    "consequences_of = defaultdict(set)\n",
    "consequences_of['api.rst']"
   ]
  },
  {
   "cell_type": "code",
   "execution_count": null,
   "metadata": {
    "collapsed": false,
    "deletable": true,
    "editable": true
   },
   "outputs": [],
   "source": [
    "consequences_of['index.rst'].add('index.html')\n",
    "'index.html' in consequences_of['index.rst']"
   ]
  },
  {
   "cell_type": "code",
   "execution_count": 3,
   "metadata": {
    "collapsed": false,
    "deletable": true,
    "editable": true
   },
   "outputs": [
    {
     "name": "stdout",
     "output_type": "stream",
     "text": [
      "[('api.rst', 'api.html'),\n",
      " ('index.rst', 'index.html'),\n",
      " ('tutorial.rst', 'tutorial.html')]\n"
     ]
    }
   ],
   "source": [
    "from pprint import pprint\n",
    "pprint(g.edges())"
   ]
  },
  {
   "cell_type": "code",
   "execution_count": 4,
   "metadata": {
    "collapsed": false,
    "deletable": true,
    "editable": true
   },
   "outputs": [
    {
     "data": {
      "text/plain": [
       "['api.html']"
      ]
     },
     "execution_count": 4,
     "metadata": {},
     "output_type": "execute_result"
    }
   ],
   "source": [
    "g.immediate_consequences_of('api.rst')"
   ]
  },
  {
   "cell_type": "code",
   "execution_count": 5,
   "metadata": {
    "collapsed": false,
    "deletable": true,
    "editable": true
   },
   "outputs": [
    {
     "data": {
      "text/plain": [
       "[]"
      ]
     },
     "execution_count": 5,
     "metadata": {},
     "output_type": "execute_result"
    }
   ],
   "source": [
    "g.immediate_consequences_of('index.html')"
   ]
  },
  {
   "cell_type": "code",
   "execution_count": 6,
   "metadata": {
    "collapsed": false,
    "deletable": true,
    "editable": true
   },
   "outputs": [],
   "source": [
    "from smartbuilder.rendering import as_graphviz\n",
    "open('fig1.dot', 'w').write(as_graphviz(g)) and None"
   ]
  },
  {
   "cell_type": "code",
   "execution_count": 7,
   "metadata": {
    "collapsed": false,
    "deletable": true,
    "editable": true
   },
   "outputs": [
    {
     "data": {
      "text/plain": [
       "<matplotlib.image.AxesImage at 0x7fa4dd0e5650>"
      ]
     },
     "execution_count": 7,
     "metadata": {},
     "output_type": "execute_result"
    },
    {
     "data": {
      "image/png": "[encoded data removed]",
      "text/plain": [
       "<matplotlib.figure.Figure at 0x7fa4df1abd50>"
      ]
     },
     "metadata": {},
     "output_type": "display_data"
    }
   ],
   "source": [
    "from matplotlib.pyplot import imshow\n",
    "import numpy as np\n",
    "from PIL import Image\n",
    "\n",
    "%matplotlib inline\n",
    "pil_im = Image.open('fig1.png', 'r')\n",
    "imshow(np.asarray(pil_im))\n"
   ]
  },
  {
   "cell_type": "code",
   "execution_count": 8,
   "metadata": {
    "collapsed": true,
    "deletable": true,
    "editable": true
   },
   "outputs": [],
   "source": [
    "g.add_edge('api.rst', 'api-title')\n",
    "g.add_edge('api-title', 'index.html')\n",
    "g.add_edge('tutorial.rst', 'tutorial-title')\n",
    "g.add_edge('tutorial-title', 'index.html')"
   ]
  },
  {
   "cell_type": "code",
   "execution_count": 9,
   "metadata": {
    "collapsed": true,
    "deletable": true,
    "editable": true
   },
   "outputs": [],
   "source": [
    "open('fig2.dot', 'w').write(as_graphviz(g)) and None"
   ]
  },
  {
   "cell_type": "code",
   "execution_count": 10,
   "metadata": {
    "collapsed": false,
    "deletable": true,
    "editable": true
   },
   "outputs": [],
   "source": [
    "!dot -Tpng fig2.dot > fig2.png"
   ]
  },
  {
   "cell_type": "code",
   "execution_count": 11,
   "metadata": {
    "collapsed": false,
    "deletable": true,
    "editable": true
   },
   "outputs": [
    {
     "data": {
      "text/plain": [
       "<matplotlib.image.AxesImage at 0x7fa4dc79d250>"
      ]
     },
     "execution_count": 11,
     "metadata": {},
     "output_type": "execute_result"
    },
    {
     "data": {
      "image/png": "[encoded data removed]",
      "text/plain": [
       "<matplotlib.figure.Figure at 0x7fa50d98f690>"
      ]
     },
     "metadata": {},
     "output_type": "display_data"
    }
   ],
   "source": [
    "pil_im = Image.open('fig2.png', 'r')\n",
    "imshow(np.asarray(pil_im))"
   ]
  },
  {
   "cell_type": "markdown",
   "metadata": {},
   "source": [
    "# 项目构建图\n",
    "下面我们将文档的构建任务使用图来表示,由于文档之间有依赖关系,因此在构建文档的过程中, 构建任务之间也有类似的依赖关系,我们将这些构建任务(可以看做是一个函数)依赖关系(函数调用关系)构造成一个有向无环图! \n",
    "\n",
    "任务 task 是图中的一个节点, task 之间的依赖关系是图中的有向边!我们如何才能发现 task 之间的调用关系? 手动分析显然是一种方法,但显然不是自动化的! 一个简单的过程是 render --> parse --> read, 即 render() 会调用 parse() 函数, parse() 函数又会调用 read() 函数. 函数调用的过程中会有压栈的操作, 函数调用完成之后又会返回, 我们能不能监控这个过程呢? \n",
    "\n",
    "如果使用的是 C/C++, 你显然很难监控. 因为C/C++ 程序最终被编译成二进制机器指令后, 直接在CPU 上执行, 并由操作系统调度 C/C++ 程序的宿主进程. 你要想完成监控,除非你找操作系统帮忙! 那么 Java 呢? Java 就可以监控 Java 字节码 的压栈出栈操作, 因为 Java 字节码 运行在 JVM 虚拟机上啊! 也就是说, Java 里面的非本地方法调用, 都是JVM 解释执行的, JVM 模拟压栈出栈操作, 当然就可以跟踪了! 也就是说, JVM 的代码是二进制机器码, 直接在CPU上执行, CPU是认识的, 但是 Java 字节码 当然是在 JVM虚拟机进程中执行, 他是 JVM 操控的! \n",
    "\n",
    "对于 Python, 和 Java 是类似的, Python 脚本是由 Python 解释器执行的, Python 解释器进程 会把 Python 脚本当参数进行解释执行, 函数的压栈和出栈当然解释器一目了然, 但是 Python 更厉害的地方在于, 函数调用的跟踪不需要和 解释器打交道, Python 语言本身提供了这种机制! 即装饰器! 跟踪函数调用关系, 其实本质上就是想在函数进栈之前,出栈之后做点小动作, 比如记录跟踪等, 这个需求, 就是在函数调用之前做点小动作, 函数调用之后再做点小动作, 这不就是装饰器的典型功能么! 如果你对 函数式编程 和 Python 装饰器不了解, 可以查阅我的另外两篇博客!"
   ]
  },
  {
   "cell_type": "code",
   "execution_count": 12,
   "metadata": {
    "collapsed": true,
    "deletable": true,
    "editable": true
   },
   "outputs": [],
   "source": [
    "index = \"\"\"\n",
    "Table of Contents\n",
    "-----------------\n",
    "* `tutorial.txt`\n",
    "* `api.txt`\n",
    "\"\"\"\n",
    "\n",
    "tutorial = \"\"\"\n",
    "Beginners Tutorial\n",
    "------------------\n",
    "Welcome to the tutorial!\n",
    "We hope you enjoy it.\n",
    "\"\"\"\n",
    "\n",
    "api = \"\"\"\n",
    "API Reference\n",
    "-------------\n",
    "You might want to read\n",
    "the `tutorial.txt` first.\n",
    "\"\"\"\n",
    "\n",
    "filesystem = {'index.txt': index, 'tutorial.txt': tutorial, 'api.txt': api}"
   ]
  },
  {
   "cell_type": "code",
   "execution_count": 13,
   "metadata": {
    "collapsed": false
   },
   "outputs": [],
   "source": [
    "from smartbuilder.projectlib import Project, Task\n",
    "project = Project()\n",
    "task = project.task"
   ]
  },
  {
   "cell_type": "markdown",
   "metadata": {},
   "source": [
    "以上内容模仿了一个文件读取过程,然后,我们使用 projectlib 中的 task 装饰器来装饰任务, 这样我们就能够获得任务直接的依赖关系(函数调用关系), 这里可以看到装饰器的强大之处, 可以跟踪函数调用过程,即压栈过程!"
   ]
  },
  {
   "cell_type": "code",
   "execution_count": 15,
   "metadata": {
    "collapsed": false
   },
   "outputs": [],
   "source": [
    "@task\n",
    "def read(filename):\n",
    "    return filesystem[filename]\n",
    "\n",
    "@task\n",
    "def parse(filename):\n",
    "    lines = read(filename).strip().splitlines()\n",
    "    title = lines[0]\n",
    "    body = '\\n'.join(lines[2:])\n",
    "    return title, body\n",
    "\n",
    "@task\n",
    "def title_of(filename):\n",
    "    title, body = parse(filename)\n",
    "    return title"
   ]
  },
  {
   "cell_type": "markdown",
   "metadata": {},
   "source": [
    "装饰器代码: 我们在每个任务函数执行之前之后, 做点小动作即可! 为了跟踪函数调用的压栈出栈操作, 我们也申请了一个栈 task_stack, 每次任务调用之前做点小动作后就将其压栈, 调用完成后就出栈并做点小动作! 这就是我们原来在C, Java 中实现的经典递归套路, (比如打印二叉树根到叶节点的所有路径等, 若使用先序遍历,就会将遇到的节点先入栈保存,然后递归执行下一次任务, 每次到底的时候, 就打印一条路径, 然后出栈叶节点)\n",
    "\n",
    "```python\n",
    "def task(function):\n",
    "    @wraps(function)\n",
    "    def wrapper(*args):\n",
    "        task = Task(wrapper, args)\n",
    "        if self.task_stack:\n",
    "            self._graph.add_edge(task, self.task_stack[-1])\n",
    "        self._graph.clear_inputs_of(task)\n",
    "        self._task_stack.append(task)\n",
    "        try:\n",
    "            value = function(*args)\n",
    "        finally:\n",
    "            self._task_stack.pop()\n",
    "\n",
    "        return value\n",
    "    return wrapper\n",
    "```\n",
    "由于执行当前任务时,调用者肯定在栈顶, 当前被调用的任务就就是该任务本身, 这样就可以很容易拿到调用关系图中的一条边! 即 (task, task_stack[-1]), 输入是被调用者,即被依赖对象, 输出是调用者! 清空 task 的先前的所有输入!"
   ]
  },
  {
   "cell_type": "code",
   "execution_count": 16,
   "metadata": {
    "collapsed": true
   },
   "outputs": [],
   "source": [
    "import re\n",
    "LINK = '<a href=\"{}\">{}</a>'\n",
    "PAGE = '<h1>{}</h1>\\n<p>\\n{}\\n<p>'\n",
    "\n",
    "def make_link(match):\n",
    "    filename = match.group(1)\n",
    "    return LINK.format(filename, title_of(filename))\n",
    "\n",
    "@task\n",
    "def render(filename):\n",
    "    title, body = parse(filename)\n",
    "    body = re.sub(r'`([^`]+)`', make_link, body)\n",
    "    return PAGE.format(title, body)"
   ]
  },
  {
   "cell_type": "code",
   "execution_count": 17,
   "metadata": {
    "collapsed": false
   },
   "outputs": [
    {
     "name": "stdout",
     "output_type": "stream",
     "text": [
      "<h1>Beginners Tutorial</h1>\n",
      "<p>\n",
      "Welcome to the tutorial!\n",
      "We hope you enjoy it.\n",
      "<p>\n"
     ]
    }
   ],
   "source": [
    "print(render('tutorial.txt'))"
   ]
  },
  {
   "cell_type": "markdown",
   "metadata": {},
   "source": [
    "# graphviz\n",
    "可以使用 graphviz 可视化你的图! 只要将图中的边,节点按照固定格式写入 .dot 文件中即可! 然后运行 `dot -Tpng fig.dot > fig.png` 即可!"
   ]
  },
  {
   "cell_type": "code",
   "execution_count": 35,
   "metadata": {
    "collapsed": true
   },
   "outputs": [],
   "source": [
    "open('fig4.3.dot', 'w').write(as_graphviz(project._graph)) and None\n",
    "!dot -Tpng fig4.3.dot > fig4.3.png"
   ]
  },
  {
   "cell_type": "code",
   "execution_count": 36,
   "metadata": {
    "collapsed": false
   },
   "outputs": [
    {
     "data": {
      "text/plain": [
       "<matplotlib.image.AxesImage at 0x7fa4dc665710>"
      ]
     },
     "execution_count": 36,
     "metadata": {},
     "output_type": "execute_result"
    },
    {
     "data": {
      "image/png": "[encoded data removed]",
      "text/plain": [
       "<matplotlib.figure.Figure at 0x7fa4dc48b290>"
      ]
     },
     "metadata": {},
     "output_type": "display_data"
    }
   ],
   "source": [
    "pil_im = Image.open('fig4.3.png', 'r')\n",
    "imshow(np.asarray(pil_im))"
   ]
  },
  {
   "cell_type": "markdown",
   "metadata": {},
   "source": [
    "Task 是一个 类, 继承了 namedtuple, 并重写了他的 \\_\\_repr\\_\\_() 方法!\n",
    "```python\n",
    "class Task(namedtuple('Task', ('task_function', 'args'))):\n",
    "    \"\"\"\n",
    "    把一个 函数调用 转变为一个 二元 tuple 任务\n",
    "\n",
    "    给定 任务函数 和 一个参数列表, 返回一个 二元tuple.\n",
    "    \"\"\"\n",
    "    __slots__ = ()\n",
    "\n",
    "    def __new__(cls, task_function, args):\n",
    "        try:\n",
    "            hash(args)\n",
    "        except TypeError as e:\n",
    "            raise ValueError('arguments to project tasks must be immutable and hashable, not the {}'.format(e))\n",
    "        \n",
    "        return super(Task, cls).__new__(cls, task_function, args)\n",
    "    \n",
    "    def __repr__(self):\n",
    "        \"语法糖, 任务的源代码表示\"\n",
    "\n",
    "        return '{}({})'.format(self.task_function.__name__,\n",
    "                              ', '.join(repr(arg) for arg in self.args))\n",
    "```"
   ]
  },
  {
   "cell_type": "code",
   "execution_count": 37,
   "metadata": {
    "collapsed": false
   },
   "outputs": [
    {
     "name": "stdout",
     "output_type": "stream",
     "text": [
      "read('tutorial.txt')\n"
     ]
    }
   ],
   "source": [
    "task = Task(read, ('tutorial.txt',))\n",
    "print task"
   ]
  },
  {
   "cell_type": "code",
   "execution_count": 38,
   "metadata": {
    "collapsed": false
   },
   "outputs": [
    {
     "data": {
      "text/plain": [
       "[parse('tutorial.txt')]"
      ]
     },
     "execution_count": 38,
     "metadata": {},
     "output_type": "execute_result"
    }
   ],
   "source": [
    "project._graph.immediate_consequences_of(task)"
   ]
  },
  {
   "cell_type": "code",
   "execution_count": 39,
   "metadata": {
    "collapsed": false,
    "scrolled": true
   },
   "outputs": [
    {
     "name": "stdout",
     "output_type": "stream",
     "text": [
      "<h1>Table of Contents</h1>\n",
      "<p>\n",
      "* <a href=\"tutorial.txt\">The Coder Tutorial</a>\n",
      "* <a href=\"api.txt\">API Reference</a>\n",
      "<p>\n",
      "==============================\n",
      "<h1>The Coder Tutorial</h1>\n",
      "<p>\n",
      "Welcome to the coder tutorial!\n",
      "It should be read top to bottom.\n",
      "<p>\n",
      "==============================\n",
      "<h1>API Reference</h1>\n",
      "<p>\n",
      "You might want to read\n",
      "the <a href=\"tutorial.txt\">The Coder Tutorial</a> first.\n",
      "<p>\n",
      "==============================\n"
     ]
    }
   ],
   "source": [
    "for filename in 'index.txt', 'tutorial.txt', 'api.txt':\n",
    "    print(render(filename))\n",
    "    print('=' * 30)"
   ]
  },
  {
   "cell_type": "code",
   "execution_count": 24,
   "metadata": {
    "collapsed": true
   },
   "outputs": [],
   "source": [
    "open('fig4.4.dot', 'w').write(as_graphviz(project._graph)) and None"
   ]
  },
  {
   "cell_type": "code",
   "execution_count": 25,
   "metadata": {
    "collapsed": true
   },
   "outputs": [],
   "source": [
    "!dot -Tpng fig4.4.dot > fig4.4.png"
   ]
  },
  {
   "cell_type": "code",
   "execution_count": 26,
   "metadata": {
    "collapsed": false
   },
   "outputs": [
    {
     "name": "stdout",
     "output_type": "stream",
     "text": [
      "(768, 285)\n"
     ]
    },
    {
     "data": {
      "text/plain": [
       "<matplotlib.image.AxesImage at 0x7fa4dc46fa90>"
      ]
     },
     "execution_count": 26,
     "metadata": {},
     "output_type": "execute_result"
    },
    {
     "data": {
      "image/png": "[encoded data removed]",
      "text/plain": [
       "<matplotlib.figure.Figure at 0x7fa4dc72a050>"
      ]
     },
     "metadata": {},
     "output_type": "display_data"
    }
   ],
   "source": [
    "pil_im = Image.open('fig4.4.png', 'r')\n",
    "print pil_im.size\n",
    "imshow(np.asarray(pil_im))"
   ]
  },
  {
   "cell_type": "markdown",
   "metadata": {},
   "source": [
    "# 缓存cache\n",
    "为了防止过多的重构任务, 对于结果没有变的任务, 其后续任务就不必再执行了, 因此我们加入 cache 机制, 并检查 当前任务和 cache 结果是否一致, 一致则不再需要执行后续任务了! 为了方便, 定义一个缓存失效的标准! \\_unavailable 是一个单例模式, 所有的失效都返回她;\n",
    "\n",
    "```python\n",
    "def _get_from_cache(self, task):\n",
    "    \"\"\"返回给定 `task` 的输出.\n",
    "\n",
    "    如果无法查到一个现有的有效的 任务cache, 就返回 单例 _unavailable.\n",
    "    \"\"\"\n",
    "    if not self._cache_on:\n",
    "        return _unavailable\n",
    "    if task in self._todo:\n",
    "        return _unavailable\n",
    "    return self._cache.get(task,_unavailable)\n",
    "```\n",
    "\n",
    "当每次执行任务返回后,也需要将任务的返回值放入缓存之中!并且此时可以比较和上一次任务是否有变化, 有变化, 就可以更新缓存, 并需要重新执行该任务影响到的后续任务!因此还引入一个 todo list, 存放将要执行的任务!\n",
    "```python\n",
    "def set(self, task, return_value):\n",
    "    \"\"\"添加 `task` 的运行结果值 `return_value` 到 输出值缓存中.\n",
    "\n",
    "    这里我们有机会比较新值和上一次任务返回结果的旧值, \n",
    "    从而决定那些使用 `task` 作为输入的任务集合是否需要被\n",
    "    加入到 todo 列表中重新进行计算\n",
    "    \"\"\"\n",
    "    self._todo.discard(task)\n",
    "    if (task not in self._cache) or (self._cache[task] != return_value):\n",
    "        self._cache[task] = return_value\n",
    "        self._todo.update(self._graph.immediate_consequences_of(task))\n",
    "```"
   ]
  },
  {
   "cell_type": "markdown",
   "metadata": {},
   "source": [
    "加入缓存机制后, 任务调用过程中, 有些任务可以不必再调用了, 我们已经保存了某些"
   ]
  },
  {
   "cell_type": "code",
   "execution_count": 27,
   "metadata": {
    "collapsed": false
   },
   "outputs": [
    {
     "data": {
      "text/plain": [
       "[parse('api.txt')]"
      ]
     },
     "execution_count": 27,
     "metadata": {},
     "output_type": "execute_result"
    }
   ],
   "source": [
    "task = Task(read, ('api.txt',))\n",
    "project._graph.immediate_consequences_of(task)"
   ]
  },
  {
   "cell_type": "code",
   "execution_count": 28,
   "metadata": {
    "collapsed": false
   },
   "outputs": [
    {
     "name": "stdout",
     "output_type": "stream",
     "text": [
      "[parse('api.txt'),\n",
      " render('api.txt'),\n",
      " title_of('api.txt'),\n",
      " render('index.txt')]\n"
     ]
    }
   ],
   "source": [
    "_pprint = pprint\n",
    "pprint = lambda x: _pprint(x, width=40)\n",
    "pprint(project._graph.recursive_consequences_of([task]))"
   ]
  },
  {
   "cell_type": "code",
   "execution_count": 29,
   "metadata": {
    "collapsed": true
   },
   "outputs": [],
   "source": [
    "filesystem['tutorial.txt'] = \"\"\"\n",
    "The Coder Tutorial\n",
    "------------------\n",
    "This is a new and improved\n",
    "introductory paragraph.\n",
    "\"\"\""
   ]
  },
  {
   "cell_type": "code",
   "execution_count": 30,
   "metadata": {
    "collapsed": true
   },
   "outputs": [],
   "source": [
    "with project.cache_off():\n",
    "    text = read('tutorial.txt')"
   ]
  },
  {
   "cell_type": "code",
   "execution_count": 31,
   "metadata": {
    "collapsed": false,
    "scrolled": true
   },
   "outputs": [
    {
     "name": "stdout",
     "output_type": "stream",
     "text": [
      "calling parse('tutorial.txt')\n",
      "calling render('tutorial.txt')\n",
      "calling title_of('tutorial.txt')\n",
      "calling render('api.txt')\n",
      "calling render('index.txt')\n"
     ]
    }
   ],
   "source": [
    "project.start_tracing()\n",
    "project.rebuild()\n",
    "print(project.stop_tracing())"
   ]
  },
  {
   "cell_type": "markdown",
   "metadata": {},
   "source": [
    "以下当 task title_of() 的内容和缓存中的内容一样时, title_of() 的consequences 将不会受到影响,因此就不用放入 todo了, 不再执行!"
   ]
  },
  {
   "cell_type": "code",
   "execution_count": 32,
   "metadata": {
    "collapsed": true
   },
   "outputs": [],
   "source": [
    "filesystem['tutorial.txt'] = \"\"\"\n",
    "The Coder Tutorial\n",
    "------------------\n",
    "Welcome to the coder tutorial!\n",
    "It should be read top to bottom.\n",
    "\"\"\"\n",
    "with project.cache_off():\n",
    "    text = read('tutorial.txt')"
   ]
  },
  {
   "cell_type": "code",
   "execution_count": 33,
   "metadata": {
    "collapsed": false
   },
   "outputs": [
    {
     "name": "stdout",
     "output_type": "stream",
     "text": [
      "calling parse('tutorial.txt')\n",
      "calling render('tutorial.txt')\n",
      "calling title_of('tutorial.txt')\n"
     ]
    }
   ],
   "source": [
    "project.start_tracing()\n",
    "project.rebuild()\n",
    "print(project.stop_tracing())"
   ]
  },
  {
   "cell_type": "code",
   "execution_count": null,
   "metadata": {
    "collapsed": true
   },
   "outputs": [],
   "source": []
  }
 ],
 "metadata": {
  "kernelspec": {
   "display_name": "Python 2",
   "language": "python",
   "name": "python2"
  },
  "language_info": {
   "codemirror_mode": {
    "name": "ipython",
    "version": 2
   },
   "file_extension": ".py",
   "mimetype": "text/x-python",
   "name": "python",
   "nbconvert_exporter": "python",
   "pygments_lexer": "ipython2",
   "version": "2.7.12"
  }
 },
 "nbformat": 4,
 "nbformat_minor": 2
}
